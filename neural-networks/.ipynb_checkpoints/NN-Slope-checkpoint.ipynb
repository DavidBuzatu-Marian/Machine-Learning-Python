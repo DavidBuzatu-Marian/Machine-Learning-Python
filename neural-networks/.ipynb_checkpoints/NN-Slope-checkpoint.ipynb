{
 "cells": [
  {
   "cell_type": "code",
   "execution_count": 9,
   "metadata": {},
   "outputs": [],
   "source": [
    "# cost function\n",
    "def cost(b):\n",
    "    return (b - 4) ** 2"
   ]
  },
  {
   "cell_type": "code",
   "execution_count": 5,
   "metadata": {},
   "outputs": [
    {
     "data": {
      "text/plain": [
       "0"
      ]
     },
     "execution_count": 5,
     "metadata": {},
     "output_type": "execute_result"
    }
   ],
   "source": [
    "cost(4)"
   ]
  },
  {
   "cell_type": "code",
   "execution_count": 10,
   "metadata": {},
   "outputs": [],
   "source": [
    "# slope found algebraically\n",
    "def num_slope(b):\n",
    "    h = 0.0001\n",
    "    return (cost(b + h) - cost(b)) / h"
   ]
  },
  {
   "cell_type": "code",
   "execution_count": 7,
   "metadata": {},
   "outputs": [
    {
     "data": {
      "text/plain": [
       "-1.9999000000037181"
      ]
     },
     "execution_count": 7,
     "metadata": {},
     "output_type": "execute_result"
    }
   ],
   "source": [
    "num_slope(3)"
   ]
  },
  {
   "cell_type": "code",
   "execution_count": 8,
   "metadata": {},
   "outputs": [
    {
     "data": {
      "text/plain": [
       "2.000099999994731"
      ]
     },
     "execution_count": 8,
     "metadata": {},
     "output_type": "execute_result"
    }
   ],
   "source": [
    "num_slope(5)"
   ]
  },
  {
   "cell_type": "code",
   "execution_count": 12,
   "metadata": {},
   "outputs": [],
   "source": [
    "# slope with derivative\n",
    "def slope(b):\n",
    "    return 2 * (b - 4)"
   ]
  },
  {
   "cell_type": "code",
   "execution_count": 13,
   "metadata": {},
   "outputs": [
    {
     "data": {
      "text/plain": [
       "-2"
      ]
     },
     "execution_count": 13,
     "metadata": {},
     "output_type": "execute_result"
    }
   ],
   "source": [
    "slope(3)"
   ]
  },
  {
   "cell_type": "code",
   "execution_count": 14,
   "metadata": {},
   "outputs": [
    {
     "data": {
      "text/plain": [
       "2"
      ]
     },
     "execution_count": 14,
     "metadata": {},
     "output_type": "execute_result"
    }
   ],
   "source": [
    "slope(5)"
   ]
  },
  {
   "cell_type": "code",
   "execution_count": 114,
   "metadata": {},
   "outputs": [],
   "source": [
    "b = 8"
   ]
  },
  {
   "cell_type": "code",
   "execution_count": 112,
   "metadata": {},
   "outputs": [
    {
     "name": "stdout",
     "output_type": "stream",
     "text": [
      "4.000000009485687\n"
     ]
    }
   ],
   "source": [
    "b = b - .1 * slope(b)\n",
    "print(b)"
   ]
  },
  {
   "cell_type": "code",
   "execution_count": 117,
   "metadata": {},
   "outputs": [
    {
     "name": "stdout",
     "output_type": "stream",
     "text": [
      "0.8\n",
      "1.4400000000000002\n",
      "1.952\n",
      "2.3616\n",
      "2.68928\n",
      "2.9514240000000003\n",
      "3.1611392\n",
      "3.32891136\n",
      "3.463129088\n",
      "3.5705032704\n",
      "3.6564026163200003\n",
      "3.725122093056\n",
      "3.7800976744448\n",
      "3.82407813955584\n",
      "3.8592625116446717\n",
      "3.8874100093157375\n",
      "3.90992800745259\n",
      "3.927942405962072\n",
      "3.9423539247696575\n",
      "3.953883139815726\n",
      "3.9631065118525806\n",
      "3.9704852094820646\n",
      "3.9763881675856516\n",
      "3.981110534068521\n",
      "3.984888427254817\n",
      "3.9879107418038537\n",
      "3.990328593443083\n",
      "3.9922628747544664\n",
      "3.993810299803573\n",
      "3.995048239842858\n",
      "3.9960385918742864\n",
      "3.9968308734994293\n",
      "3.9974646987995435\n",
      "3.997971759039635\n",
      "3.998377407231708\n",
      "3.998701925785366\n",
      "3.998961540628293\n",
      "3.9991692325026342\n",
      "3.9993353860021075\n",
      "3.999468308801686\n",
      "3.9995746470413485\n",
      "3.9996597176330786\n",
      "3.999727774106463\n",
      "3.99978221928517\n",
      "3.9998257754281363\n",
      "3.999860620342509\n",
      "3.999888496274007\n",
      "3.9999107970192056\n",
      "3.9999286376153647\n",
      "3.9999429100922916\n",
      "3.999954328073833\n",
      "3.9999634624590668\n",
      "3.9999707699672533\n",
      "3.999976615973803\n",
      "3.9999812927790424\n",
      "3.9999850342232337\n",
      "3.999988027378587\n",
      "3.9999904219028695\n",
      "3.9999923375222957\n",
      "3.9999938700178364\n",
      "3.999995096014269\n",
      "3.9999960768114153\n",
      "3.9999968614491324\n",
      "3.999997489159306\n",
      "3.9999979913274446\n",
      "3.9999983930619556\n",
      "3.9999987144495646\n",
      "3.9999989715596516\n",
      "3.9999991772477212\n",
      "3.999999341798177\n",
      "3.9999994734385416\n",
      "3.9999995787508333\n",
      "3.9999996630006667\n",
      "3.9999997304005332\n",
      "3.9999997843204267\n",
      "3.9999998274563415\n",
      "3.9999998619650734\n",
      "3.9999998895720585\n",
      "3.999999911657647\n",
      "3.9999999293261177\n",
      "3.999999943460894\n",
      "3.9999999547687155\n",
      "3.9999999638149726\n",
      "3.9999999710519782\n",
      "3.9999999768415826\n",
      "3.999999981473266\n",
      "3.9999999851786128\n",
      "3.99999998814289\n",
      "3.999999990514312\n",
      "3.9999999924114498\n",
      "3.9999999939291597\n",
      "3.9999999951433276\n",
      "3.999999996114662\n",
      "3.99999999689173\n",
      "3.9999999975133838\n",
      "3.999999998010707\n",
      "3.9999999984085655\n",
      "3.999999998726852\n",
      "3.999999998981482\n",
      "3.9999999991851856\n"
     ]
    }
   ],
   "source": [
    "b = 0\n",
    "# training loop\n",
    "# minimizing the cost\n",
    "for i in range(100):\n",
    "    b = b - .1 * slope(b)\n",
    "    print(b)"
   ]
  },
  {
   "cell_type": "code",
   "execution_count": null,
   "metadata": {},
   "outputs": [],
   "source": []
  },
  {
   "cell_type": "code",
   "execution_count": null,
   "metadata": {},
   "outputs": [],
   "source": []
  },
  {
   "cell_type": "code",
   "execution_count": null,
   "metadata": {},
   "outputs": [],
   "source": []
  },
  {
   "cell_type": "code",
   "execution_count": null,
   "metadata": {},
   "outputs": [],
   "source": []
  },
  {
   "cell_type": "code",
   "execution_count": null,
   "metadata": {},
   "outputs": [],
   "source": []
  },
  {
   "cell_type": "code",
   "execution_count": null,
   "metadata": {},
   "outputs": [],
   "source": []
  },
  {
   "cell_type": "code",
   "execution_count": null,
   "metadata": {},
   "outputs": [],
   "source": []
  },
  {
   "cell_type": "code",
   "execution_count": null,
   "metadata": {},
   "outputs": [],
   "source": []
  },
  {
   "cell_type": "code",
   "execution_count": null,
   "metadata": {},
   "outputs": [],
   "source": []
  },
  {
   "cell_type": "code",
   "execution_count": null,
   "metadata": {},
   "outputs": [],
   "source": []
  },
  {
   "cell_type": "code",
   "execution_count": null,
   "metadata": {},
   "outputs": [],
   "source": []
  },
  {
   "cell_type": "code",
   "execution_count": null,
   "metadata": {},
   "outputs": [],
   "source": []
  }
 ],
 "metadata": {
  "kernelspec": {
   "display_name": "Python 3",
   "language": "python",
   "name": "python3"
  },
  "language_info": {
   "codemirror_mode": {
    "name": "ipython",
    "version": 3
   },
   "file_extension": ".py",
   "mimetype": "text/x-python",
   "name": "python",
   "nbconvert_exporter": "python",
   "pygments_lexer": "ipython3",
   "version": "3.7.4"
  }
 },
 "nbformat": 4,
 "nbformat_minor": 4
}
