{
 "cells": [
  {
   "cell_type": "code",
   "execution_count": 2,
   "metadata": {},
   "outputs": [],
   "source": [
    "# Cost becomes:\n",
    "# Cost = 1 / m * (sum1->m of (model(xi) - target_i) ** 2)"
   ]
  },
  {
   "cell_type": "code",
   "execution_count": 1,
   "metadata": {},
   "outputs": [],
   "source": [
    "# Using the cost function, we can find now\n",
    "# the optimal values of w and b\n",
    "\n",
    "# define the partial derivatives of cost with respect to\n",
    "# w and b and use them to update the weights"
   ]
  },
  {
   "cell_type": "code",
   "execution_count": 4,
   "metadata": {},
   "outputs": [],
   "source": [
    "%matplotlib inline"
   ]
  },
  {
   "cell_type": "code",
   "execution_count": 5,
   "metadata": {},
   "outputs": [],
   "source": [
    "from matplotlib import pyplot as plt\n",
    "import numpy as np"
   ]
  },
  {
   "cell_type": "code",
   "execution_count": 56,
   "metadata": {},
   "outputs": [],
   "source": [
    "# a point is length, width, type\n",
    "data = [[3, 1.5, 1],\n",
    "       [2, 1, 0],\n",
    "       [4, 1.5, 1],\n",
    "       [3, 1, 0],\n",
    "       [3.5, .5, 1],\n",
    "       [2, .5, 0],\n",
    "       [5.5, 1, 1],\n",
    "       [1, 1, 0]]\n",
    "\n",
    "# predicted value that we want\n",
    "mystery_flower = [4.5, 1]"
   ]
  },
  {
   "cell_type": "code",
   "execution_count": 10,
   "metadata": {},
   "outputs": [],
   "source": [
    "# network\n",
    "\n",
    "#      0  flower type\n",
    "#     / \\ w1, w2, b\n",
    "#    0   0 length, width"
   ]
  },
  {
   "cell_type": "code",
   "execution_count": 17,
   "metadata": {},
   "outputs": [],
   "source": [
    "w1 = np.random.rand()\n",
    "w2 = np.random.rand()\n",
    "b = np.random.rand()"
   ]
  },
  {
   "cell_type": "code",
   "execution_count": 25,
   "metadata": {},
   "outputs": [],
   "source": [
    "# Use sigmoid because our prediction is either\n",
    "# 1 or 0 for the flower type\n",
    "def sigmoid(x):\n",
    "    return 1 / (1 + np.exp(-x))\n",
    "# derivative of sigmoid\n",
    "def sigmoid_p(x):\n",
    "    return sigmoid(x) * (1 - sigmoid(x))"
   ]
  },
  {
   "cell_type": "code",
   "execution_count": 33,
   "metadata": {},
   "outputs": [
    {
     "data": {
      "text/plain": [
       "[<matplotlib.lines.Line2D at 0xeb6d50>]"
      ]
     },
     "execution_count": 33,
     "metadata": {},
     "output_type": "execute_result"
    },
    {
     "data": {
      "image/png": "[encoded data removed]",
      "text/plain": [
       "<Figure size 432x288 with 1 Axes>"
      ]
     },
     "metadata": {
      "needs_background": "light"
     },
     "output_type": "display_data"
    }
   ],
   "source": [
    "T = np.linspace(-6, 6, 100)\n",
    "plt.plot(T, sigmoid(T))\n",
    "plt.plot(T, sigmoid_p(T))"
   ]
  },
  {
   "cell_type": "code",
   "execution_count": 36,
   "metadata": {},
   "outputs": [
    {
     "data": {
      "image/png": "[encoded data removed]",
      "text/plain": [
       "<Figure size 432x288 with 1 Axes>"
      ]
     },
     "metadata": {
      "needs_background": "light"
     },
     "output_type": "display_data"
    }
   ],
   "source": [
    "# Scatter plot for data\n",
    "\n",
    "plt.axis([0, 6, 0, 6])\n",
    "plt.grid()\n",
    "\n",
    "for i in range(len(data)):\n",
    "    point = data[i]\n",
    "    color = \"r\"\n",
    "    if point[2] == 0:\n",
    "        color = \"b\"\n",
    "    plt.scatter(point[0], point[1], c = color)"
   ]
  },
  {
   "cell_type": "code",
   "execution_count": 53,
   "metadata": {},
   "outputs": [],
   "source": [
    "# Training loop\n",
    "# Steps\n",
    "# 1. Loop through data\n",
    "# 2. Take random point\n",
    "# 3. Run through network\n",
    "# 4. See what is should be\n",
    "# 5. Take derivative of cost and update weights\n",
    "\n",
    "learning_rate = 0.2\n",
    "\n",
    "w1 = np.random.rand()\n",
    "w2 = np.random.rand()\n",
    "b = np.random.rand()\n",
    "\n",
    "for i in range(50000):\n",
    "    rand_idx = np.random.randint(len(data))\n",
    "    point = data[rand_idx]\n",
    "    \n",
    "    # weighted average\n",
    "    z = point[0] * w1 + point[1] * w2 + b\n",
    "    \n",
    "    # activation function\n",
    "    pred = sigmoid(z)\n",
    "    \n",
    "    # cost\n",
    "    target = point[2]\n",
    "    cost = np.square(pred - target)\n",
    "    \n",
    "    # derivative of cost\n",
    "    # using automatic differentiation is recommended\n",
    "    # this is done manually\n",
    "    dcost_pred = 2 * (pred - target)\n",
    "    dpred_dz = sigmoid_p(z)\n",
    "    dz_dw1 = point[0]\n",
    "    dz_dw2 = point[1]\n",
    "    dz_db = 1\n",
    "    \n",
    "    dcost_dw1 = dcost_pred * dpred_dz * dz_dw1\n",
    "    dcost_dw2 = dcost_pred * dpred_dz * dz_dw2\n",
    "    dcost_db = dcost_pred * dpred_dz * dz_db\n",
    "    \n",
    "    # update weights\n",
    "    \n",
    "    w1 -= learning_rate * dcost_dw1\n",
    "    w2 -=  learning_rate * dcost_dw2\n",
    "    b -=  learning_rate * dcost_db\n",
    "    "
   ]
  },
  {
   "cell_type": "code",
   "execution_count": 54,
   "metadata": {},
   "outputs": [
    {
     "name": "stdout",
     "output_type": "stream",
     "text": [
      "[3, 1.5, 1]\n",
      "Prediction: 0.8034839752726248\n",
      "[2, 1, 0]\n",
      "Prediction: 0.0007454575853412204\n",
      "[4, 1.5, 1]\n",
      "Prediction: 0.9997829434998208\n",
      "[3, 1, 0]\n",
      "Prediction: 0.45664811143614475\n",
      "[3.5, 0.5, 1]\n",
      "Prediction: 0.8529037895435237\n",
      "[2, 0.5, 0]\n",
      "Prediction: 0.00015332093223642467\n",
      "[5.5, 1, 1]\n",
      "Prediction: 0.9999999720671463\n",
      "[1, 1, 0]\n",
      "Prediction: 6.622055885819804e-07\n"
     ]
    }
   ],
   "source": [
    "# verify and print model predictions\n",
    "\n",
    "for i in range(len(data)):\n",
    "    point = data[i]\n",
    "    print(point)\n",
    "    z = point[0] * w1 + point[1] * w2 + b\n",
    "    pred = sigmoid(z)\n",
    "    print(\"Prediction: {}\".format(pred))"
   ]
  },
  {
   "cell_type": "code",
   "execution_count": 58,
   "metadata": {},
   "outputs": [
    {
     "name": "stdout",
     "output_type": "stream",
     "text": [
      "Prediction: 0.9999685330005865\n"
     ]
    }
   ],
   "source": [
    "z = mystery_flower[0] * w1 + mystery_flower[1] * w2 + b\n",
    "pred = sigmoid(z)\n",
    "print(\"Prediction: {}\".format(pred))"
   ]
  },
  {
   "cell_type": "code",
   "execution_count": 62,
   "metadata": {},
   "outputs": [
    {
     "data": {
      "text/plain": [
       "-1073741819"
      ]
     },
     "execution_count": 62,
     "metadata": {},
     "output_type": "execute_result"
    }
   ],
   "source": [
    "import os\n",
    "\n",
    "os.system(\"say hi\")"
   ]
  },
  {
   "cell_type": "code",
   "execution_count": null,
   "metadata": {},
   "outputs": [],
   "source": []
  }
 ],
 "metadata": {
  "kernelspec": {
   "display_name": "Python 3",
   "language": "python",
   "name": "python3"
  },
  "language_info": {
   "codemirror_mode": {
    "name": "ipython",
    "version": 3
   },
   "file_extension": ".py",
   "mimetype": "text/x-python",
   "name": "python",
   "nbconvert_exporter": "python",
   "pygments_lexer": "ipython3",
   "version": "3.7.4"
  }
 },
 "nbformat": 4,
 "nbformat_minor": 4
}
