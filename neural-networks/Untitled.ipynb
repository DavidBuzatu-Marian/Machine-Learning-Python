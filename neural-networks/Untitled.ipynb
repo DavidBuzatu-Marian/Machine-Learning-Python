{
 "cells": [
  {
   "cell_type": "code",
   "execution_count": 3,
   "metadata": {},
   "outputs": [],
   "source": [
    "import numpy as np\n",
    "from matplotlib import pyplot as plt\n",
    "import pandas as pd"
   ]
  },
  {
   "cell_type": "code",
   "execution_count": 17,
   "metadata": {},
   "outputs": [
    {
     "name": "stdout",
     "output_type": "stream",
     "text": [
      "        r    g    b  pred\n",
      "0      86  180   39     0\n",
      "1      19  209  221     0\n",
      "2      64   88  126     1\n",
      "3      30  221  149     0\n",
      "4      61   47  120     1\n",
      "...   ...  ...  ...   ...\n",
      "9995  143   42  221     1\n",
      "9996   55    6   82     1\n",
      "9997  100  146  190     0\n",
      "9998  239  225   45     0\n",
      "9999  126  188  237     0\n",
      "\n",
      "[10000 rows x 4 columns]\n"
     ]
    },
    {
     "name": "stderr",
     "output_type": "stream",
     "text": [
      "c:\\users\\david\\appdata\\local\\programs\\python\\python37-32\\lib\\site-packages\\ipykernel_launcher.py:4: ParserWarning: Falling back to the 'python' engine because the 'c' engine does not support regex separators (separators > 1 char and different from '\\s+' are interpreted as regex); you can avoid this warning by specifying engine='python'.\n",
      "  after removing the cwd from sys.path.\n"
     ]
    }
   ],
   "source": [
    "# Random generated data\n",
    "# 1 means white text color\n",
    "# 0 means black text color\n",
    "data = pd.read_csv('colors.txt', sep = ',', header = None, index_col=None)\n",
    "data.columns = [\"r\", \"g\", \"b\", \"pred\"]\n",
    "print(data)"
   ]
  },
  {
   "cell_type": "code",
   "execution_count": null,
   "metadata": {},
   "outputs": [],
   "source": []
  },
  {
   "cell_type": "code",
   "execution_count": null,
   "metadata": {},
   "outputs": [],
   "source": []
  }
 ],
 "metadata": {
  "kernelspec": {
   "display_name": "Python 3",
   "language": "python",
   "name": "python3"
  },
  "language_info": {
   "codemirror_mode": {
    "name": "ipython",
    "version": 3
   },
   "file_extension": ".py",
   "mimetype": "text/x-python",
   "name": "python",
   "nbconvert_exporter": "python",
   "pygments_lexer": "ipython3",
   "version": "3.7.4"
  }
 },
 "nbformat": 4,
 "nbformat_minor": 4
}
